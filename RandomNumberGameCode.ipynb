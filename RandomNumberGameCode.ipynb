{
 "cells": [
  {
   "cell_type": "code",
   "execution_count": 1,
   "metadata": {},
   "outputs": [],
   "source": [
    "# Importing Packages\n",
    "import random\n",
    "import math"
   ]
  },
  {
   "cell_type": "code",
   "execution_count": 2,
   "metadata": {},
   "outputs": [],
   "source": [
    "# Variables\n",
    "trials = 10000000"
   ]
  },
  {
   "cell_type": "code",
   "execution_count": 3,
   "metadata": {},
   "outputs": [
    {
     "name": "stdout",
     "output_type": "stream",
     "text": [
      "Answer: 2.7183 | Simulated Expected Value: 2.7185\n"
     ]
    }
   ],
   "source": [
    "# The Game\n",
    "\n",
    "# List to store results\n",
    "game_length = []\n",
    "\n",
    "for _ in range(trials):\n",
    "    # List to store picks per game\n",
    "    picks = []\n",
    "    \n",
    "    while True:\n",
    "        # Our Pick\n",
    "        pick = random.uniform(0, 1)\n",
    "        picks.append(pick)\n",
    "        \n",
    "        # Following Game Rules\n",
    "        if len(picks) >= 2 and picks[-1] <= picks[-2]:\n",
    "            length = len(picks)\n",
    "            game_length.append(length)\n",
    "            break\n",
    "\n",
    "# Calculating Expected Value\n",
    "ev = sum(game_length) / trials\n",
    "\n",
    "# Theoretical Answer \n",
    "answer = math.e\n",
    "\n",
    "# Outputting Results \n",
    "print(f'Answer: {round(answer, 4)} | Simulated Expected Value: {round(ev, 4)}')"
   ]
  }
 ],
 "metadata": {
  "kernelspec": {
   "display_name": "Python 3",
   "language": "python",
   "name": "python3"
  },
  "language_info": {
   "codemirror_mode": {
    "name": "ipython",
    "version": 3
   },
   "file_extension": ".py",
   "mimetype": "text/x-python",
   "name": "python",
   "nbconvert_exporter": "python",
   "pygments_lexer": "ipython3",
   "version": "3.7.6"
  }
 },
 "nbformat": 4,
 "nbformat_minor": 4
}
